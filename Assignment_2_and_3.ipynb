{
  "nbformat": 4,
  "nbformat_minor": 0,
  "metadata": {
    "colab": {
      "name": "Assignment_2_and_3.ipynb",
      "provenance": [],
      "collapsed_sections": [],
      "authorship_tag": "ABX9TyMGU666LG+D3Qj6ZxTpupCh",
      "include_colab_link": true
    },
    "kernelspec": {
      "name": "python3",
      "display_name": "Python 3"
    },
    "language_info": {
      "name": "python"
    }
  },
  "cells": [
    {
      "cell_type": "markdown",
      "metadata": {
        "id": "view-in-github",
        "colab_type": "text"
      },
      "source": [
        "<a href=\"https://colab.research.google.com/github/ShubhamPatel33/MLDL-practice/blob/main/Assignment_2_and_3.ipynb\" target=\"_parent\"><img src=\"https://colab.research.google.com/assets/colab-badge.svg\" alt=\"Open In Colab\"/></a>"
      ]
    },
    {
      "cell_type": "code",
      "metadata": {
        "id": "CjvAylceGU5g"
      },
      "source": [
        "import numpy as np\n",
        "import pandas as pd\n"
      ],
      "execution_count": 2,
      "outputs": []
    },
    {
      "cell_type": "code",
      "metadata": {
        "colab": {
          "base_uri": "https://localhost:8080/"
        },
        "id": "G909N6ABGeDS",
        "outputId": "ee0daf51-7b93-4df5-c8eb-bd019398ac70"
      },
      "source": [
        "dataset = pd.read_csv(\"heart.csv\")\n",
        "print(dataset)"
      ],
      "execution_count": 4,
      "outputs": [
        {
          "output_type": "stream",
          "text": [
            "     age  sex  cp  trestbps  chol  fbs  ...  exang  oldpeak  slope  ca  thal  target\n",
            "0     63    1   3       145   233    1  ...      0      2.3      0   0     1       1\n",
            "1     37    1   2       130   250    0  ...      0      3.5      0   0     2       1\n",
            "2     41    0   1       130   204    0  ...      0      1.4      2   0     2       1\n",
            "3     56    1   1       120   236    0  ...      0      0.8      2   0     2       1\n",
            "4     57    0   0       120   354    0  ...      1      0.6      2   0     2       1\n",
            "..   ...  ...  ..       ...   ...  ...  ...    ...      ...    ...  ..   ...     ...\n",
            "298   57    0   0       140   241    0  ...      1      0.2      1   0     3       0\n",
            "299   45    1   3       110   264    0  ...      0      1.2      1   0     3       0\n",
            "300   68    1   0       144   193    1  ...      0      3.4      1   2     3       0\n",
            "301   57    1   0       130   131    0  ...      1      1.2      1   1     3       0\n",
            "302   57    0   1       130   236    0  ...      0      0.0      1   1     2       0\n",
            "\n",
            "[303 rows x 14 columns]\n"
          ],
          "name": "stdout"
        }
      ]
    },
    {
      "cell_type": "code",
      "metadata": {
        "colab": {
          "base_uri": "https://localhost:8080/"
        },
        "id": "ng4ygzy0HNhq",
        "outputId": "1fd80a53-8641-438c-cc8b-c78e842a1aa4"
      },
      "source": [
        "x = dataset.iloc[:,0:13]\n",
        "y = dataset.iloc[:,-1]\n",
        "print(x)\n",
        "print(y)\n",
        "print(x.shape)"
      ],
      "execution_count": 24,
      "outputs": [
        {
          "output_type": "stream",
          "text": [
            "     age  sex  cp  trestbps  chol  ...  exang  oldpeak  slope  ca  thal\n",
            "0     63    1   3       145   233  ...      0      2.3      0   0     1\n",
            "1     37    1   2       130   250  ...      0      3.5      0   0     2\n",
            "2     41    0   1       130   204  ...      0      1.4      2   0     2\n",
            "3     56    1   1       120   236  ...      0      0.8      2   0     2\n",
            "4     57    0   0       120   354  ...      1      0.6      2   0     2\n",
            "..   ...  ...  ..       ...   ...  ...    ...      ...    ...  ..   ...\n",
            "298   57    0   0       140   241  ...      1      0.2      1   0     3\n",
            "299   45    1   3       110   264  ...      0      1.2      1   0     3\n",
            "300   68    1   0       144   193  ...      0      3.4      1   2     3\n",
            "301   57    1   0       130   131  ...      1      1.2      1   1     3\n",
            "302   57    0   1       130   236  ...      0      0.0      1   1     2\n",
            "\n",
            "[303 rows x 13 columns]\n",
            "0      1\n",
            "1      1\n",
            "2      1\n",
            "3      1\n",
            "4      1\n",
            "      ..\n",
            "298    0\n",
            "299    0\n",
            "300    0\n",
            "301    0\n",
            "302    0\n",
            "Name: target, Length: 303, dtype: int64\n",
            "(303, 13)\n"
          ],
          "name": "stdout"
        }
      ]
    },
    {
      "cell_type": "code",
      "metadata": {
        "colab": {
          "base_uri": "https://localhost:8080/"
        },
        "id": "x_--W3XcHo9l",
        "outputId": "9d78c93f-65ef-4931-b6af-a00eb5850810"
      },
      "source": [
        "from sklearn.model_selection import train_test_split\n",
        "x_train,x_test,y_train,y_test = train_test_split(x,y,test_size = 0.3)\n",
        "print(x_train.shape , x_test.shape)"
      ],
      "execution_count": 29,
      "outputs": [
        {
          "output_type": "stream",
          "text": [
            "(212, 13) (91, 13)\n"
          ],
          "name": "stdout"
        }
      ]
    },
    {
      "cell_type": "code",
      "metadata": {
        "colab": {
          "base_uri": "https://localhost:8080/"
        },
        "id": "eBBE-vaSIUFL",
        "outputId": "993fd273-b304-43d1-d6a1-8abf727d8b11"
      },
      "source": [
        "# Logistic Regression\n",
        "from sklearn.linear_model import LogisticRegression\n",
        "from sklearn.metrics import accuracy_score\n",
        "model = LogisticRegression(solver='lbfgs', max_iter=1000)\n",
        "model.fit(x_train,y_train)\n",
        "y_pred = model.predict(x_test)\n",
        "score_lr = accuracy_score(y_test,y_pred) *100\n",
        "print(score_lr)\n",
        "## When you try to train a classification model with linear regression ,it will give error as the dataset labelled data of 0 and 1 which\n",
        "##will not be supported in a linear regression model "
      ],
      "execution_count": 32,
      "outputs": [
        {
          "output_type": "stream",
          "text": [
            "85.71428571428571\n"
          ],
          "name": "stdout"
        }
      ]
    },
    {
      "cell_type": "code",
      "metadata": {
        "id": "mANWESXvZR3l"
      },
      "source": [
        ""
      ],
      "execution_count": null,
      "outputs": []
    }
  ]
}